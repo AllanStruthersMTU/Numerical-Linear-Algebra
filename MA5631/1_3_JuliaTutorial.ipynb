{
 "cells": [
  {
   "cell_type": "markdown",
   "id": "d34180c8-4cd5-4bdb-958c-135dc1902932",
   "metadata": {
    "tags": []
   },
   "source": [
    "# Review\n",
    "\n",
    "We are using \n",
    "- Anaconda, JupyterLab, Julia in Jupyter notebooks, GitHub\n",
    "\n",
    "Julia is similar to most procedural languages. Julia has easily installed extensions\n",
    "which provide access to a broad range of scientific libraries with minimal overhead.\n",
    "Serious attention has been paid to performance. Julia claims and actually seems to be \n",
    "performant. \n",
    "  \n",
    "# Cells\n",
    "Jupyter notebooks contain **Markdown** cells for text and **code** cells for computation. The cheatsheet\n",
    "-https://www.markdownguide.org/cheat-sheet/\n",
    "describes the most useful general Markdown commands. For math folks one of the most useful things is that you can just put LaTeX into a markdown cell\n",
    "$$\\int_0^{e^x} \\cos(x) dx$$\n",
    "\n",
    "# Basic Julia\n",
    "Julia is really pretty easy to read.  We all know writing code is different from reading code. Different\n",
    "backgrounds give different hurdles. Typing code in a Markdown cell is crazy! Julia prints last code cell \n",
    "entries by default.\n",
    "\n",
    "## Vectors and Arrays\n",
    "To a computer vectors and arrays are just\n",
    "efficiently stored blocks of identically typed numbers."
   ]
  },
  {
   "cell_type": "code",
   "execution_count": 19,
   "id": "04be89a6-d4d8-44bf-8061-e78804486b75",
   "metadata": {},
   "outputs": [
    {
     "data": {
      "text/plain": [
       "1×3 Array{Float64,2}:\n",
       " 1.2  2.3  3.4"
      ]
     },
     "execution_count": 19,
     "metadata": {},
     "output_type": "execute_result"
    }
   ],
   "source": [
    "v = [1.2 2.3 3.4] "
   ]
  },
  {
   "cell_type": "code",
   "execution_count": 34,
   "id": "8007b61d-381a-4f4f-b7fc-2406ea10e3ec",
   "metadata": {},
   "outputs": [
    {
     "data": {
      "text/plain": [
       "2×3 Array{Float64,2}:\n",
       " 1.2  2.3  3.4\n",
       " 4.5  5.6  6.7"
      ]
     },
     "execution_count": 34,
     "metadata": {},
     "output_type": "execute_result"
    }
   ],
   "source": [
    "A = [1.2 2.3 3.4; 4.5 5.6 6.7]"
   ]
  },
  {
   "cell_type": "code",
   "execution_count": 35,
   "id": "7344b9e0-5353-49b1-87d8-6bfe562301f8",
   "metadata": {},
   "outputs": [
    {
     "name": "stdout",
     "output_type": "stream",
     "text": [
      "[1.2, 2.3]\n",
      "[2.3 3.4; 5.6 6.7]\n"
     ]
    }
   ],
   "source": [
    "println(v[1:2])\n",
    "println(A[1:2,2:3])"
   ]
  },
  {
   "cell_type": "markdown",
   "id": "30df38a6-3b45-4480-96f1-8af24950bafe",
   "metadata": {},
   "source": [
    "## Tuples and Test Matrices\n",
    "Julia also has a mechanism for lumping entries of possibly different tyoes together.  \n",
    "It is called a tuple in the documentation. Tuples are used to return more than one thing from functions.     "
   ]
  },
  {
   "cell_type": "code",
   "execution_count": 36,
   "id": "44b2b929-1a4e-4a71-a69f-f1452d3e9418",
   "metadata": {},
   "outputs": [
    {
     "data": {
      "text/plain": [
       "3×4 Array{Float64,2}:\n",
       " 0.891609  0.647941  0.47254      0.824899\n",
       " 0.123265  0.339163  0.000905163  0.949515\n",
       " 0.52393   0.403325  0.154505     0.257742"
      ]
     },
     "execution_count": 36,
     "metadata": {},
     "output_type": "execute_result"
    }
   ],
   "source": [
    "(m,n)=(3, 4)\n",
    "A0 = zeros(m,n) #Creates a zero m by n array\n",
    "Ar = rand(m,n)  #Creates a random m by n array"
   ]
  },
  {
   "cell_type": "markdown",
   "id": "ad27885d-14b9-468a-82f4-014335e0a1da",
   "metadata": {},
   "source": [
    "## Copying Data\n",
    "Like C Julia uses pointers to minimize copying large data. \n",
    "- You need to explicitly copy data if you want a copy! \n",
    "This behavior is familiar if you have written efficient C code. It can produce confusing results if you have not!   "
   ]
  },
  {
   "cell_type": "code",
   "execution_count": 45,
   "id": "0e5a83a1-a42c-47be-a1bb-95803e229cbe",
   "metadata": {},
   "outputs": [
    {
     "data": {
      "text/plain": [
       "4×3 Array{Float64,2}:\n",
       " 0.684166  0.0291497  0.226385\n",
       " 0.991889  0.800852   0.788421\n",
       " 0.684166  0.0291497  0.0     \n",
       " 0.991889  0.800852   0.788421"
      ]
     },
     "execution_count": 45,
     "metadata": {},
     "output_type": "execute_result"
    }
   ],
   "source": [
    "(m,n)=(2,3); A = rand(m,n)\n",
    "B = copy(A)\n",
    "B[1,3]*=0.0;\n",
    "[A; B]"
   ]
  },
  {
   "cell_type": "code",
   "execution_count": 46,
   "id": "0beeec4c-3ff6-4bc2-af36-c8d819b0b7a0",
   "metadata": {},
   "outputs": [
    {
     "data": {
      "text/plain": [
       "2×6 Array{Float64,2}:\n",
       " 0.968977  0.53034   0.0       0.968977  0.53034   0.0     \n",
       " 0.341659  0.475716  0.970017  0.341659  0.475716  0.970017"
      ]
     },
     "execution_count": 46,
     "metadata": {},
     "output_type": "execute_result"
    }
   ],
   "source": [
    "(m,n)=(2,3); A = rand(m,n)\n",
    "B = A\n",
    "B[1,3]*=0.0;\n",
    "[A B]"
   ]
  },
  {
   "cell_type": "markdown",
   "id": "bdcfe0d1-c7ab-46e6-b4ab-c9423c17d496",
   "metadata": {},
   "source": [
    "## Identity Matrices and Initializing Arrays\n",
    "In context, Julia interprets I as an appropriately sized indentity matrix. Without context you need to provide a some type information and a dimension! "
   ]
  },
  {
   "cell_type": "code",
   "execution_count": 58,
   "id": "09d28675-7578-454d-a762-93d4d2fb4afb",
   "metadata": {},
   "outputs": [
    {
     "data": {
      "text/plain": [
       "4×4 Array{Float64,2}:\n",
       " 12.7394     0.30273    0.473225   0.0818769\n",
       "  0.134974  12.5131     0.118042   0.815074 \n",
       "  0.63407    0.969452  12.734      0.814886 \n",
       "  0.613409   0.497842   0.330003  12.695    "
      ]
     },
     "metadata": {},
     "output_type": "display_data"
    },
    {
     "data": {
      "text/plain": [
       "4×4 Array{Float64,2}:\n",
       " 1.0  0.0  0.0  0.0\n",
       " 0.0  1.0  0.0  0.0\n",
       " 0.0  0.0  1.0  0.0\n",
       " 0.0  0.0  0.0  1.0"
      ]
     },
     "execution_count": 58,
     "metadata": {},
     "output_type": "execute_result"
    }
   ],
   "source": [
    "m = 4; A=rand(m,m)\n",
    "A += 12.3*I;\n",
    "display(A)\n",
    "Id =  Matrix(1.0*I, 4, 4)"
   ]
  },
  {
   "cell_type": "markdown",
   "id": "390d0590-661b-4b95-abd8-e11f9125c489",
   "metadata": {},
   "source": [
    "## Matrix Arithmetic\n",
    "Matrix and matrix vector muliplication is simple."
   ]
  },
  {
   "cell_type": "code",
   "execution_count": 62,
   "id": "17637685-fedb-4737-b28e-e112283f88c1",
   "metadata": {},
   "outputs": [
    {
     "data": {
      "text/plain": [
       "4×3 Array{Float64,2}:\n",
       " 1.82917   1.52878  1.3649  \n",
       " 1.64565   1.39906  1.45613 \n",
       " 0.866397  1.19391  0.735889\n",
       " 1.39404   1.6151   1.10494 "
      ]
     },
     "metadata": {},
     "output_type": "display_data"
    },
    {
     "data": {
      "text/plain": [
       "5-element Array{Float64,1}:\n",
       " 0.6032002309199243\n",
       " 1.4134397457894954\n",
       " 1.8374623013056268\n",
       " 0.305439623757055 \n",
       " 0.9267064721102156"
      ]
     },
     "metadata": {},
     "output_type": "display_data"
    }
   ],
   "source": [
    "(m, n, n1) = (4,3,5)\n",
    "A=rand(m,n1); B = rand(n1,n); v = rand(n)\n",
    "display(A*B)\n",
    "display(B*v)"
   ]
  },
  {
   "cell_type": "markdown",
   "id": "969d09ce-d832-4e16-9168-8d9b66b3bdf9",
   "metadata": {},
   "source": [
    "## For Loops\n",
    "Julia has a standard menagerie of loop constructs.  For now we are going to keep it simple and use a for loop to implement matrix vector multiplication. I timed both versions of the code to make the point that reinventing the wheel is not a good plan.  We need to load the standard LinearAlgebra package to use norm."
   ]
  },
  {
   "cell_type": "code",
   "execution_count": 2,
   "id": "fdc8ae90-680b-4d58-af27-0b8561c6c87f",
   "metadata": {},
   "outputs": [
    {
     "name": "stdout",
     "output_type": "stream",
     "text": [
      "  0.034429 seconds (787.46 k allocations: 14.023 MiB, 10.79% gc time)\n",
      "  0.000100 seconds (5 allocations: 2.281 KiB)\n"
     ]
    },
    {
     "data": {
      "text/plain": [
       "1.323365578039422e-12"
      ]
     },
     "execution_count": 2,
     "metadata": {},
     "output_type": "execute_result"
    }
   ],
   "source": [
    "using LinearAlgebra\n",
    "(m, n) = (256,512); A=rand(m,n); v = rand(n)\n",
    "Av = zeros(m)\n",
    "@time for i in 1:m\n",
    "    for j in 1:n \n",
    "        Av[i]+=A[i,j]*v[j]\n",
    "    end\n",
    "end\n",
    "@time A*v\n",
    "norm(Av-A*v)"
   ]
  },
  {
   "cell_type": "markdown",
   "id": "a8016cd8-266c-4e75-a7f4-7d929bce49cf",
   "metadata": {},
   "source": [
    "## Structures \n",
    "The eigen command is also in the LinearAlgebra package.  I put it in the cell to remind me: you only need to load packages once in each session.\n",
    "The ouput says the command has returned a structure (that I have called LambdaV) containing\n",
    "- A complex m vector containing the eigenvalues\n",
    "- A complex m by m array containing the eigenvectors (as columns) in the same order"
   ]
  },
  {
   "cell_type": "code",
   "execution_count": 22,
   "id": "610f153e-8b80-4e2e-af4d-06751b5c1b4d",
   "metadata": {},
   "outputs": [
    {
     "data": {
      "text/plain": [
       "Eigen{Complex{Float64},Complex{Float64},Array{Complex{Float64},2},Array{Complex{Float64},1}}\n",
       "eigenvalues:\n",
       "5-element Array{Complex{Float64},1}:\n",
       "    2.535322055330046 + 0.0im                \n",
       "   0.4231690021943887 + 0.0im                \n",
       " -0.40403037445670664 + 0.0im                \n",
       " -0.19552699997104145 + 0.43857649873613924im\n",
       " -0.19552699997104145 - 0.43857649873613924im\n",
       "eigenvectors:\n",
       "5×5 Array{Complex{Float64},2}:\n",
       " 0.407265+0.0im   0.506275+0.0im  -0.661733+0.0im  …  -0.371626+0.145917im \n",
       " 0.412724+0.0im  -0.700031+0.0im  -0.260991+0.0im     -0.386871+0.293647im \n",
       " 0.362294+0.0im   0.385524+0.0im   0.543615+0.0im      0.247067+0.0746875im\n",
       " 0.373384+0.0im   0.187489+0.0im   0.442398+0.0im      0.586187-0.0im      \n",
       " 0.626993+0.0im  -0.264311+0.0im  0.0525364+0.0im     0.0521572-0.437892im "
      ]
     },
     "execution_count": 22,
     "metadata": {},
     "output_type": "execute_result"
    }
   ],
   "source": [
    "using LinearAlgebra\n",
    "m = 5; A = rand(m,m)\n",
    "LambdaV = eigen(A)"
   ]
  },
  {
   "cell_type": "markdown",
   "id": "54c006e3-89d5-43b5-8c36-e6acb1174ac3",
   "metadata": {},
   "source": [
    "## Structure Accessors\n",
    "Structure **dot accessors** give the pieces of a structure. The accessors here are values and vectors and the : gives the entire column."
   ]
  },
  {
   "cell_type": "code",
   "execution_count": 23,
   "id": "13996bbd-3018-426b-815d-51472faca80e",
   "metadata": {},
   "outputs": [
    {
     "data": {
      "text/plain": [
       "7.38907332894677e-15"
      ]
     },
     "execution_count": 23,
     "metadata": {},
     "output_type": "execute_result"
    }
   ],
   "source": [
    "using LinearAlgebra\n",
    "m = 25; A = rand(m,m); LambdaV = eigen(A)\n",
    "(Lambda,V) = (LambdaV.values, LambdaV.vectors) \n",
    "i=3; v = V[:,i]\n",
    "norm(A*v - Lambda[i]*v)"
   ]
  },
  {
   "cell_type": "markdown",
   "id": "1b31de90-6291-4526-8e46-4cb0a032563c",
   "metadata": {},
   "source": [
    "## Sparse PDE Matrices\n",
    "A sparse matrix is filled almost entirely with zeros.\n",
    "\n",
    "Large, square, sparse matrices are generated by almost all Partial Differential Equation (PDE) discretization techniques. It is not uncommon for a PDE discretization to have millions of Degrees Of Freedom (DOF) with only very limited local interactions between a few dozen neighboring DOFs. \n",
    "\n",
    "The square matrix from such a discretization could easily have size $m = 5 \\times 10^6$ with an average of only $36$ non zeros per row. Such a matrix would be $100 36/(5\\times 10^6) \\approx 0.00072%$ non zeros. Refining a mesh generates more DOFs without changing the number of neighbors. \n",
    "- For 2D problems halfing the discretization length increases the number of DOFs by $2^2$: The non-zero density would be a quarter of the original density.  \n",
    "- For 3D problems halfing the discretization length increases the number of DOFs by $2^3$: The non-zero density would be an eigth of the original density.  \n",
    "\n",
    "Such sparse PDE matrices $A$ are going to be the primary focus of the course. \n",
    "- We are interested in solving linear equations $A.x=b$.\n",
    "- We are interested in computing a few eigenvalues and eigenvectors of $A$. \n",
    "Typically we are interested in a few physically relevant eigenvalues.\n",
    "\n",
    "Clearly it would be insane to explicitly store all the zero entries. We are going to find out how to find Sparse PDE test matrices and look at the most common transfer format. Then we are going to look at the implementations of \n",
    "storage formats and start thinking about computing efficiently with sparse matrices.  "
   ]
  },
  {
   "cell_type": "code",
   "execution_count": 3,
   "id": "fa6cbfef-dd6a-4195-9de2-d09292c273a7",
   "metadata": {},
   "outputs": [
    {
     "data": {
      "text/plain": [
       "0.00072"
      ]
     },
     "execution_count": 3,
     "metadata": {},
     "output_type": "execute_result"
    }
   ],
   "source": [
    "100*36/(5*10^6)"
   ]
  }
 ],
 "metadata": {
  "kernelspec": {
   "display_name": "Julia 1.0.5",
   "language": "julia",
   "name": "julia-1.0"
  },
  "language_info": {
   "file_extension": ".jl",
   "mimetype": "application/julia",
   "name": "julia",
   "version": "1.0.5"
  }
 },
 "nbformat": 4,
 "nbformat_minor": 5
}
