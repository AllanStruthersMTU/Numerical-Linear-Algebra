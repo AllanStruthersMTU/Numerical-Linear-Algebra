{
 "cells": [
  {
   "cell_type": "markdown",
   "id": "d34180c8-4cd5-4bdb-958c-135dc1902932",
   "metadata": {
    "tags": []
   },
   "source": [
    "# Schedule\n",
    "\n",
    "- Week One \n",
    "    - 1_1\n",
    "    - 1_2\n",
    "    - 1_3\n",
    "    \n",
    "- Week Two   \n"
   ]
  },
  {
   "cell_type": "code",
   "execution_count": null,
   "id": "c67c765e-e5ba-41de-992e-da75755e88ea",
   "metadata": {},
   "outputs": [],
   "source": []
  }
 ],
 "metadata": {
  "kernelspec": {
   "display_name": "Julia 1.0.5",
   "language": "julia",
   "name": "julia-1.0"
  },
  "language_info": {
   "file_extension": ".jl",
   "mimetype": "application/julia",
   "name": "julia",
   "version": "1.0.5"
  }
 },
 "nbformat": 4,
 "nbformat_minor": 5
}
