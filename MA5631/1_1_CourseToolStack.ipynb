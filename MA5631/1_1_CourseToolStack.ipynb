{
 "cells": [
  {
   "cell_type": "markdown",
   "id": "67b195a5-d666-4b06-9c52-89b685032998",
   "metadata": {
    "tags": []
   },
   "source": [
    "# Anaconda\n",
    "\n",
    "Anaconda is a package manager orginally developed for Python.  It is easy to install and makes installing Julia very easy. \n",
    "\n",
    "- https://en.wikipedia.org/wiki/Anaconda_(Python_distribution)\n",
    "- https://www.anaconda.com/\n",
    "\n",
    "Anaconda automatically resolves dependencies and packages to make computautional tools which are \n",
    "easy to install and maintain.\n",
    "\n",
    "# Jupyter Lab\n",
    "Jupyter Lab is a browser based notebook interface for Julia, Python, and other computational tools.\n",
    "\n",
    "- https://en.wikipedia.org/wiki/Project_Jupyter\n",
    "- https://jupyter.org/\n",
    "\n",
    "Jupyter notebooks allow you to easily mix text and computation. We are going to use Jupyter notebooks to \n",
    "develop and implement code as well as present material in class. \n",
    "\n",
    "# Julia\n",
    "Julia is a simple and performant computational tool which is rapdily becoming widely used in scientific computation\n",
    "\n",
    "- https://en.wikipedia.org/wiki/Julia_(programming_language)\n",
    "- https://julialang.org/\n",
    "\n",
    "Julia has several advantages. \n",
    "- Julia syntax is simple, consistent and similar to most procedural languages.  \n",
    "- The Julia package manager is s simple mechanism to incorporate extensions and packages. \n",
    "- Julia provides simple uniform access to a broad range of scientific libraries and examples.\n",
    "- Julia was designed to be performant i.e. everything runs as fast as it should.\n",
    "We will use Julia to develop our own code. We will also learn how to use efficient libraries\n",
    "developed and maintained by various organizations. \n",
    "  \n",
    "\n",
    "# GitHub\n",
    "GitHub is an online repository that facilitates sharing a code repository.  It makes it easy for you to\n",
    "copy (the fancy word is clone) of a directory tree exactly mirroring ones on my computer!\n",
    "- https://en.wikipedia.org/wiki/GitHub\n",
    "- https://github.com/\n",
    "I use GitHub to work on projects with folks all over the place and to make sure that I do not lose bits of code \n",
    "between several computers I work on. I use a GUI interface to GitHub called GitHubDesktop.\n",
    "- https://desktop.github.com/\n",
    "Lots of people use GitHub online and from the command line. You can access GitHub anyway you want. I will demonstrate \n",
    "using the desktop tool.\n",
    "\n",
    "# Course Material\n",
    "This is a Jupyter notebook running a Julia kernel which is available from GitHub.  I opened JupyterLab from Anaconda and ten opened the notebook.  \n"
   ]
  }
 ],
 "metadata": {
  "kernelspec": {
   "display_name": "Julia 1.0.5",
   "language": "julia",
   "name": "julia-1.0"
  },
  "language_info": {
   "file_extension": ".jl",
   "mimetype": "application/julia",
   "name": "julia",
   "version": "1.0.5"
  }
 },
 "nbformat": 4,
 "nbformat_minor": 5
}
