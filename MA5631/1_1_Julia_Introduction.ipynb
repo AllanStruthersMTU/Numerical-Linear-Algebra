{
 "cells": [
  {
   "cell_type": "markdown",
   "id": "67b195a5-d666-4b06-9c52-89b685032998",
   "metadata": {
    "tags": []
   },
   "source": [
    "# Sparse Array Structure\n",
    "Sparse arrays are in compressed column format according to the doumentation\n",
    "    https://docs.julialang.org/en/v1/stdlib/SparseArrays/#man-csc\n",
    "The entries are directly accessible and editable.  Not surprisingly the documentation say adding entries is slow!"
   ]
  },
  {
   "cell_type": "code",
   "execution_count": 59,
   "id": "265c5bbf-d5a4-4191-b936-2efdb992245f",
   "metadata": {
    "jupyter": {
     "source_hidden": true
    },
    "tags": []
   },
   "outputs": [
    {
     "data": {
      "text/plain": [
       "12×13 SparseMatrixCSC{Float64,Int64} with 21 stored entries:\n",
       "  [1 ,  1]  =  0.570908\n",
       "  [9 ,  1]  =  -0.00993403\n",
       "  [2 ,  3]  =  -0.689925\n",
       "  [4 ,  3]  =  -2.39669\n",
       "  [9 ,  3]  =  0.605451\n",
       "  [2 ,  4]  =  -0.798289\n",
       "  [5 ,  4]  =  0.0108901\n",
       "  [6 ,  4]  =  0.00705011\n",
       "  [7 ,  4]  =  -0.615599\n",
       "  [8 ,  4]  =  -0.433664\n",
       "  [9 ,  5]  =  0.0202746\n",
       "  [2 ,  7]  =  0.648151\n",
       "  [4 ,  7]  =  -0.465501\n",
       "  [1 ,  9]  =  -1.49707\n",
       "  [9 , 10]  =  0.155165\n",
       "  [1 , 11]  =  0.115463\n",
       "  [7 , 11]  =  0.266804\n",
       "  [10, 12]  =  -0.0848329\n",
       "  [12, 12]  =  -0.133205\n",
       "  [10, 13]  =  -0.633766\n",
       "  [12, 13]  =  1.20935"
      ]
     },
     "execution_count": 59,
     "metadata": {},
     "output_type": "execute_result"
    }
   ],
   "source": [
    "using SparseArrays, LinearAlgebra\n",
    "(m,n)=(12,13)\n",
    "A=sprandn(m,n,0.1)"
   ]
  },
  {
   "cell_type": "markdown",
   "id": "376fb92a-da91-40e2-9d5f-2492be0b6eea",
   "metadata": {},
   "source": [
    "## Sparse Array Acessors\n",
    "\n",
    "****\n",
    "\n",
    "The accessors for the stored CSC structure of a sparse $m\\times n$ array are \n",
    "\n",
    "* A.m \n",
    "    * Number of Rows \n",
    "* A.n\n",
    "    * Number of columns\n",
    "* A.colptr\n",
    "    * pointers to start of columns\n",
    "* A.rowval\n",
    "    * Row Indices of stored values\n",
    "* A.nzval\n",
    "    * Stored values\n",
    "    \n",
    "They should be performant. \n",
    "\n",
    "### Demos \n",
    "\n",
    "* The dimensions probably need no explanation\n",
    "    * Structural\n",
    "* The values probably need little explanation. Note the integer values in row val have been automatically promoted in the display\n",
    "    * Values\n",
    "* Column Structure may need more interpretation and explanation\n",
    "    * column pointers give the start (in the value lists above) of each column.    "
   ]
  },
  {
   "cell_type": "code",
   "execution_count": 23,
   "id": "f8bb61e3-2402-4e39-9ae5-e8db7e9a08e1",
   "metadata": {},
   "outputs": [
    {
     "data": {
      "text/plain": [
       "(12, 13)"
      ]
     },
     "execution_count": 23,
     "metadata": {},
     "output_type": "execute_result"
    }
   ],
   "source": [
    "(A.m,A.n)"
   ]
  },
  {
   "cell_type": "code",
   "execution_count": 30,
   "id": "e93cbb68-e4f6-468b-82c4-58fb4755bdcc",
   "metadata": {},
   "outputs": [
    {
     "data": {
      "text/plain": [
       "18×2 Array{Float64,2}:\n",
       "  1.0  -1.35688 \n",
       "  3.0   1.45905 \n",
       "  4.0  -0.19126 \n",
       "  5.0  -0.68639 \n",
       " 10.0  -0.939249\n",
       " 11.0  -1.81431 \n",
       "  7.0  -0.972066\n",
       "  3.0   1.33456 \n",
       "  9.0  -0.218103\n",
       " 11.0  -0.195553\n",
       "  4.0  -0.264478\n",
       "  4.0  -2.18732 \n",
       "  5.0  -1.05255 \n",
       "  6.0  -0.550504\n",
       "  1.0   0.368684\n",
       " 12.0   0.459757\n",
       "  6.0   0.386804\n",
       "  8.0   2.05498 "
      ]
     },
     "execution_count": 30,
     "metadata": {},
     "output_type": "execute_result"
    }
   ],
   "source": [
    "[A.rowval A.nzval]"
   ]
  },
  {
   "cell_type": "code",
   "execution_count": 32,
   "id": "6213dee3-782e-489b-8144-0b39261e69c8",
   "metadata": {},
   "outputs": [
    {
     "data": {
      "text/plain": [
       "14-element Array{Int64,1}:\n",
       "  1\n",
       "  4\n",
       "  5\n",
       "  7\n",
       "  8\n",
       " 10\n",
       " 11\n",
       " 12\n",
       " 15\n",
       " 17\n",
       " 17\n",
       " 17\n",
       " 19\n",
       " 19"
      ]
     },
     "execution_count": 32,
     "metadata": {},
     "output_type": "execute_result"
    }
   ],
   "source": [
    "A.colptr"
   ]
  },
  {
   "cell_type": "code",
   "execution_count": 57,
   "id": "9cfe0044-af17-48fa-aba1-dbc34cc2dc44",
   "metadata": {},
   "outputs": [
    {
     "data": {
      "text/plain": [
       "12-element SparseVector{Float64,Int64} with 2 stored entries:\n",
       "  [10]  =  -0.939249\n",
       "  [11]  =  -1.81431"
      ]
     },
     "metadata": {},
     "output_type": "display_data"
    },
    {
     "data": {
      "text/plain": [
       "([10, 11], [-0.939249, -1.81431])"
      ]
     },
     "execution_count": 57,
     "metadata": {},
     "output_type": "execute_result"
    }
   ],
   "source": [
    "c = 3\n",
    "display(A[:,c])\n",
    "p = A.colptr\n",
    "r = A.rowval\n",
    "z = A.nzval\n",
    "range = (p[c]):(p[c+1]-1)\n",
    "(r[range],z[range])"
   ]
  },
  {
   "cell_type": "markdown",
   "id": "7c7d6b8c-1a2d-40d1-be43-c98efeb90f14",
   "metadata": {},
   "source": [
    "# Sparse Matrix Operations\n",
    "\n",
    "Timings maybe take a little bit of getting used to.  They make a lot more sense if you remember that \n",
    "Column based operations are faster since the underlying storage is by column."
   ]
  },
  {
   "cell_type": "code",
   "execution_count": 102,
   "id": "706f6c17-52c9-4af6-b690-8fefa680a79e",
   "metadata": {},
   "outputs": [
    {
     "name": "stdout",
     "output_type": "stream",
     "text": [
      "  1.539028 seconds (20 allocations: 1.120 GiB, 14.74% gc time)\n",
      "  0.176234 seconds (11 allocations: 763.597 MiB, 0.74% gc time)\n",
      "  0.353601 seconds (12 allocations: 763.597 MiB, 24.67% gc time)\n",
      "  0.904620 seconds (13 allocations: 763.597 MiB, 1.40% gc time)\n",
      "  0.000001 seconds (5 allocations: 176 bytes)\n"
     ]
    }
   ],
   "source": [
    "m=10^5;\n",
    "@time A=sprand(m,m,0.005)\n",
    "@time B=copy(A)\n",
    "@time B=copy(A)'\n",
    "@time B=copy(A')\n",
    "@time A=A';"
   ]
  },
  {
   "cell_type": "markdown",
   "id": "5b7e25ca-469e-4c38-ae2f-9000a72f02da",
   "metadata": {},
   "source": [
    "# Sparse Matrix Dense Vector Operations\n",
    "Remember, column based operations are faster "
   ]
  },
  {
   "cell_type": "code",
   "execution_count": 113,
   "id": "c7edc393-cdff-496c-8f29-ec122e0adef3",
   "metadata": {},
   "outputs": [
    {
     "name": "stdout",
     "output_type": "stream",
     "text": [
      "  0.003088 seconds (6 allocations: 12.207 MiB)\n",
      "  0.798068 seconds (7 allocations: 12.207 MiB, 0.23% gc time)\n",
      "  0.850260 seconds (6 allocations: 12.207 MiB)\n",
      "  0.855620 seconds (6 allocations: 12.207 MiB, 0.08% gc time)\n",
      "  0.760032 seconds (8 allocations: 12.207 MiB)\n"
     ]
    }
   ],
   "source": [
    "s=16;\n",
    "@time V=rand(m,s)\n",
    "@time A*V\n",
    "@time A'*V\n",
    "@time B*V\n",
    "@time B'*V;"
   ]
  },
  {
   "cell_type": "markdown",
   "id": "a1fcecec-e2c5-4ad4-a434-93fc1358b198",
   "metadata": {},
   "source": [
    "# Sparse Matrix Sparse Matrix Operations\n",
    "Should have similar patterns."
   ]
  },
  {
   "cell_type": "code",
   "execution_count": 115,
   "id": "d1f959db-d768-44b3-a969-ac514d2fda60",
   "metadata": {},
   "outputs": [
    {
     "name": "stdout",
     "output_type": "stream",
     "text": [
      "  0.000198 seconds (19 allocations: 91.156 KiB)\n",
      "  1.001180 seconds (29 allocations: 791.826 MiB, 8.30% gc time)\n",
      "  0.061604 seconds (21 allocations: 28.230 MiB, 42.48% gc time)\n",
      "  0.036416 seconds (21 allocations: 28.230 MiB, 1.77% gc time)\n",
      "  0.899411 seconds (30 allocations: 791.826 MiB, 0.17% gc time)\n"
     ]
    }
   ],
   "source": [
    "@time V=sprand(m,s,0.001)\n",
    "@time A*V\n",
    "@time A'*V\n",
    "@time B*V\n",
    "@time B'*V;"
   ]
  },
  {
   "cell_type": "markdown",
   "id": "87d48dd2-3991-46c4-8eec-03ac4b970987",
   "metadata": {},
   "source": [
    "# Slightly Counter Intuitive Timings \n",
    "Two ways of doing the same thing. "
   ]
  },
  {
   "cell_type": "code",
   "execution_count": 12,
   "id": "a8621fbc-a52c-41f6-96d7-e763034dcac5",
   "metadata": {},
   "outputs": [
    {
     "name": "stdout",
     "output_type": "stream",
     "text": [
      "  0.035961 seconds (22 allocations: 19.307 MiB, 14.39% gc time)\n",
      "  0.000814 seconds (6 allocations: 1.221 MiB)\n",
      "1  0.000031 seconds (14 allocations: 400 bytes)\n",
      "2  0.000074 seconds (15 allocations: 800 bytes)\n",
      "3  0.000240 seconds (157 allocations: 10.141 KiB)\n"
     ]
    },
    {
     "data": {
      "text/plain": [
       "5.842931536447421e-13"
      ]
     },
     "execution_count": 12,
     "metadata": {},
     "output_type": "execute_result"
    }
   ],
   "source": [
    "using SparseArrays, LinearAlgebra\n",
    "(m,s)=(10^4,16);\n",
    "@time A=sprand(m,m,0.005)\n",
    "@time V=rand(m,s)\n",
    "@time print(1); P1 = A*V; P1=P1'\n",
    "@time print(2); P2 = V'*A';\n",
    "@time print(3); norm(P1-P2)"
   ]
  },
  {
   "cell_type": "code",
   "execution_count": 18,
   "id": "6968ac16-3387-4f31-b639-458477ae67e1",
   "metadata": {},
   "outputs": [
    {
     "name": "stdout",
     "output_type": "stream",
     "text": [
      "  0.030227 seconds (20 allocations: 11.672 MiB, 8.07% gc time)\n",
      "  0.000385 seconds (21 allocations: 453.891 KiB)\n",
      "1  0.000035 seconds (14 allocations: 400 bytes)\n",
      "2  0.000057 seconds (14 allocations: 400 bytes)\n",
      "3  0.000043 seconds (14 allocations: 400 bytes)\n"
     ]
    },
    {
     "data": {
      "text/plain": [
       "0.0"
      ]
     },
     "execution_count": 18,
     "metadata": {},
     "output_type": "execute_result"
    }
   ],
   "source": [
    "using SparseArrays, LinearAlgebra\n",
    "(m,s)=(10^4,16);\n",
    "@time A=sprand(m,m,0.005)\n",
    "@time V=sprand(m,s,0.05)\n",
    "@time print(1); P1 = A*V; P1=P1'\n",
    "@time print(2); P2 = V'*A';\n",
    "@time print(3); norm(P1-P2)"
   ]
  },
  {
   "cell_type": "markdown",
   "id": "29354eec-dcb2-436e-99a1-8c0a67025afc",
   "metadata": {},
   "source": [
    "# Sparse Vectors\n",
    "Sparse vectors are the same idea but simpler. Under some circumstances we might want to think of matrices as collections of rows! "
   ]
  },
  {
   "cell_type": "code",
   "execution_count": 23,
   "id": "9d8e5977-d2f7-4c2c-bcfd-fc8f3d974cfc",
   "metadata": {},
   "outputs": [
    {
     "data": {
      "text/plain": [
       "100-element SparseVector{Float64,Int64} with 3 stored entries:\n",
       "  [17 ]  =  0.227517\n",
       "  [43 ]  =  0.252094\n",
       "  [56 ]  =  0.739746"
      ]
     },
     "execution_count": 23,
     "metadata": {},
     "output_type": "execute_result"
    }
   ],
   "source": [
    "m=10^2\n",
    "v=sprand(m,0.01)"
   ]
  },
  {
   "cell_type": "code",
   "execution_count": 27,
   "id": "1801d921-00ee-455c-b97f-d478d778982a",
   "metadata": {},
   "outputs": [
    {
     "data": {
      "text/plain": [
       "100"
      ]
     },
     "metadata": {},
     "output_type": "display_data"
    },
    {
     "data": {
      "text/plain": [
       "([17, 43, 56], [0.227517, 0.252094, 0.739746])"
      ]
     },
     "metadata": {},
     "output_type": "display_data"
    }
   ],
   "source": [
    "display(v.n)\n",
    "display((v.nzind,v.nzval))"
   ]
  }
 ],
 "metadata": {
  "kernelspec": {
   "display_name": "Julia 1.0.5",
   "language": "julia",
   "name": "julia-1.0"
  },
  "language_info": {
   "file_extension": ".jl",
   "mimetype": "application/julia",
   "name": "julia",
   "version": "1.0.5"
  }
 },
 "nbformat": 4,
 "nbformat_minor": 5
}
