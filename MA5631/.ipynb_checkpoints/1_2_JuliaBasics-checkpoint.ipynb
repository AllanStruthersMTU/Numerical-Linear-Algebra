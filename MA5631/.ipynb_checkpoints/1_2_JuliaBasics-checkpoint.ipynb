{
 "cells": [
  {
   "cell_type": "markdown",
   "id": "d34180c8-4cd5-4bdb-958c-135dc1902932",
   "metadata": {
    "tags": []
   },
   "source": [
    "# Review\n",
    "\n",
    "We are using \n",
    "- Anaconda\n",
    "- JupyterLab\n",
    "- Julia in Jupyter notebooks\n",
    "- GitHub\n",
    "\n",
    "We are using Julia because:\n",
    "- The syntax is simple, consistent and similar to most procedural languages.  \n",
    "- Extensions and packages are easily installed through the Julia package manager.\n",
    "- It provides simple uniform access to a broad range of scientific libraries and examples.\n",
    "- It is efficiently implemented with minimal overhead i.e. it is performant.\n",
    "\n",
    "We need to learn how to load packages and write functions containing simple loops in Julia. \n",
    "  \n",
    "\n",
    "# MarkDown and Code Notebook Cells\n",
    "\n",
    "A Jupyter notebook contains two types of cells. \n",
    "- Markdown: For writing text and math\n",
    "- Computaion: For big and small computations\n",
    "\n",
    "This is a markdown cell. To edit it simply click on it and type.  Almost all the simple foramating in markdown cells is described in the link below.\n",
    "-https://www.markdownguide.org/cheat-sheet/\n",
    "We will come back to Markdown after we have worked out how to perform some simple computations.\n",
    "\n",
    "# Making Editing, and Deleting Cells\n",
    "The Edit menu lets you copy and paste cells: keyboard short cuts are beside some of the commands. Some usefull commands are harder to find on the menus. \n",
    "\n",
    "- \"esc\" a inserts a new cell above the cell the cursor is in.\n",
    "- \"esc\" b inserts a new cell below the cell the cursor is in.\n",
    "- \"esc\" dd deletes the cell the cursor is in.\n",
    "- \"esc\" m converts the cell the cursor is in to Markdown\n",
    "- \"esc\" y converts the cell the cursor is in to code.\n",
    "\n",
    "You can display pseudocode fairly simply\n",
    "\n",
    "# Code Cells and Programming\n",
    "\n",
    "Most Julia code is a direct translation from other procedural languages. The easiest way to demonstrate this is to write a function that implements a standard linear algebra operation.  We are going to use the Cholesky Decomposition\n",
    "$$\n",
    "A = L.L^\\top\n",
    "$$\n",
    "of a real Symmetric Positive Definite (SPD) matrix A as a product of the Lower Triangular factor $L$ \n",
    "and its transpose. The wiki page \n",
    "- https://en.wikipedia.org/wiki/Cholesky_decomposition\n",
    "describes the Cholesky decomposition and provides pseudo code for a variety of slightly different algorithms.    \n",
    "\n",
    "Reminders:\n",
    "- A is Symmetric if $A=A^\\top$ i.e. $A_{ij}=A_{ji}$\n",
    "- A is Positive Definite if $x.A.x > 0$ for $x\\neq 0$.\n",
    "- L is lower triangular if $L_{ij}=0$ when $i>j$.\n",
    "\n",
    "## Wiki Pseudocode\n",
    "The first pseudo-code on the Wiki page is:\n",
    "``` lang=C\n",
    "for (i = 0; i < dimensionSize; i++) {\n",
    "    for (j = 0; j <= i; j++) {\n",
    "        float sum = 0;\n",
    "        for (k = 0; k < j; k++)\n",
    "            sum += L[i][k] * L[j][k];\n",
    "\n",
    "        if (i == j)\n",
    "            L[i][j] = sqrt(A[i][i] - sum);\n",
    "        else\n",
    "            L[i][j] = (1.0 / L[j][j] * (A[i][j] - sum));\n",
    "    }\n",
    "}\n",
    "```\n",
    "This is actually C Code and a few things need to change to to translate it into Julia. We need to \n",
    "- Convert the for(start; test; increment) do loops into Julia for-index-in-range-do-end\n",
    "- Convert the index 0 pseudocode to linear algebra index 1 code\n",
    "- Convert the psuedocode if(cond) statements into Julia if-else-end code\n",
    "- Convert the pseudo-code L[i][j] and A[i][j] into the Julia versions L[i,j] and A[i,j] \n",
    "- Remove or fix type declerations like float.\n",
    "We are going to do this slowly.\n",
    "\n",
    "Note the chances of the partially-translated intermediate versions working in any computer language is vanishingly small. \n",
    "\n",
    "## Step 1: Convert to base 1 pseudo code\n",
    "Changing the base index and writing m for the matrix dimension we get\n",
    "``` lang=C\n",
    "for (i = 1; i <= m; i++) {\n",
    "    for (j = 1; j <= i; j++) {\n",
    "        float sum = 0;\n",
    "        for (k = 1; k <= j; k++)\n",
    "            sum += L[i][k] * L[j][k];\n",
    "        if (i == j)\n",
    "            L[i][j] = sqrt(A[i][i] - sum);\n",
    "        else\n",
    "            L[i][j] = (1.0 / L[j][j] * (A[i][j] - sum));\n",
    "    }\n",
    "}\n",
    "```\n",
    "\n",
    "## Step 2:  Change to Julia for loops\n",
    "Again taking it slowly. I am going to translate the C for loops into Julia\n",
    "``` lang=Julia\n",
    "for i in 1:m\n",
    "    for j in 1:i \n",
    "        float sum = 0;\n",
    "        for k in 1:j\n",
    "            sum += L[i][k] * L[j][k]\n",
    "        end\n",
    "        if (i == j)\n",
    "            L[i][j] = sqrt(A[i][i] - sum);\n",
    "        else\n",
    "            L[i][j] = (1.0 / L[j][j] * (A[i][j] - sum));\n",
    "    end\n",
    "end\n",
    "```\n",
    "\n",
    "## Step 3:  Change to Julia indexing\n",
    "I am going to delete the type declaration and translate the matrix indexing into Julia  \n",
    "``` lang=Julia\n",
    "for i in 1:m\n",
    "    for j in 1:i\n",
    "        sum = 0;\n",
    "        for k in 1:j\n",
    "            sum += L[i,k] * L[j,k]\n",
    "        end\n",
    "        if (i == j\n",
    "            L[i,j] = sqrt(A[i,i] - sum);\n",
    "        else\n",
    "            L[i,j] = 1.0 / L[j,j] * (A[i,j] - sum));\n",
    "    end\n",
    "end\n",
    "```\n",
    "\n",
    "## Step 4:  Change to Julia ifs\n",
    "I am going to translate the if and delete a bunch of semi-colons\n",
    "``` lang=Julia\n",
    "for i in 1:m\n",
    "    for j in 1:i\n",
    "        sum = 0.0\n",
    "        for k in 1:j\n",
    "            sum += L[i,k] * L[j,k]\n",
    "        end\n",
    "        if i == j\n",
    "            L[i,j] = sqrt(A[i,i] - sum)\n",
    "        else\n",
    "            L[i,j] = 1.0 / L[j,j] * (A[i,j] - sum)\n",
    "        end\n",
    "    end\n",
    "end\n",
    "```\n",
    "The result is code that will run in Julia and produce the Cholesky factor L of an SPD A. Here is the resulting Julia script and a simple test. "
   ]
  },
  {
   "cell_type": "code",
   "execution_count": 34,
   "id": "8a67eb53-c695-47f0-8978-c8145ca797d8",
   "metadata": {},
   "outputs": [
    {
     "data": {
      "text/plain": [
       "8.881784197001252e-16"
      ]
     },
     "metadata": {},
     "output_type": "display_data"
    },
    {
     "data": {
      "text/plain": [
       "true"
      ]
     },
     "metadata": {},
     "output_type": "display_data"
    },
    {
     "data": {
      "text/plain": [
       "12×12 Array{Float64,2}:\n",
       " 2.01964  0.0        0.0        0.0        …   0.0       0.0        0.0     \n",
       " 1.77756  1.34777    0.0        0.0            0.0       0.0        0.0     \n",
       " 1.89891  0.581049   0.939914   0.0            0.0       0.0        0.0     \n",
       " 1.59368  0.468795   0.0874578  1.17544        0.0       0.0        0.0     \n",
       " 1.91655  0.832954  -0.391617   0.505465       0.0       0.0        0.0     \n",
       " 1.5161   0.568871   0.442217   0.0973646  …   0.0       0.0        0.0     \n",
       " 1.61055  0.293268  -0.12836    0.363748       0.0       0.0        0.0     \n",
       " 1.71965  0.226814   0.140693   0.454195       0.0       0.0        0.0     \n",
       " 1.01144  0.532409   0.154745   0.441326       0.0       0.0        0.0     \n",
       " 1.71085  0.303734  -0.309798   0.355805       0.470677  0.0        0.0     \n",
       " 1.49718  0.397585   0.234631   0.40999    …   0.130214  0.315462   0.0     \n",
       " 1.37179  0.246799  -0.381377   0.186927      -0.483312  0.0190166  0.261785"
      ]
     },
     "execution_count": 34,
     "metadata": {},
     "output_type": "execute_result"
    }
   ],
   "source": [
    "using LinearAlgebra\n",
    "m=12\n",
    "A=rand(m,m); A=A*A'\n",
    "L=zeros(m,m)\n",
    "\n",
    "for i in 1:m\n",
    "    for j in 1:i \n",
    "        sum = 0.0\n",
    "        for k in 1:j\n",
    "            sum += L[i,k] * L[j,k]\n",
    "        end\n",
    "        if i == j\n",
    "            L[i,j] = sqrt(A[i,i] - sum)\n",
    "        else\n",
    "            L[i,j] = 1.0 / L[j,j] * (A[i,j] - sum)\n",
    "        end\n",
    "    end\n",
    "end\n",
    "display(norm(A-L*L'))\n",
    "display(istril(L))\n",
    "L"
   ]
  },
  {
   "cell_type": "markdown",
   "id": "e302b85d-1c70-4107-95f9-90c17fe235a0",
   "metadata": {},
   "source": [
    "# Loops and BLAS\n",
    "\n",
    "Basic linear algebra (and some not so basic linear algebra) are implemented very efficiently on every computer. The basic linear algebra is contained in sub routines called Basic Linear Algebra Subroutines (BLAS) tuned for specific hardware. Some history and details are on wikipedia at\n",
    "- https://en.wikipedia.org/wiki/Basic_Linear_Algebra_Subprograms\n",
    "What this means is code will run faster if we replace any loop that does basic linear algebra with the appropriate linear algebra command.  The inner most loop simply accumulates an inner product in the variable sum.  Replacing\n",
    "``` lang=Julia\n",
    "    sum = 0.0\n",
    "        for k in 1:j\n",
    "            sum += L[i,k] * L[j,k]\n",
    "        end\n",
    "```\n",
    "with the easier to read BLAS version\n",
    "``` lang=Julia\n",
    "    sum = dot(L[i,1:j],L[j,1:j])\n",
    "```\n",
    "gives cleaner code that runs faster! "
   ]
  },
  {
   "cell_type": "code",
   "execution_count": 35,
   "id": "95611e61-581b-44fa-a9fc-6a9bf7cdb0b9",
   "metadata": {},
   "outputs": [
    {
     "data": {
      "text/plain": [
       "1.4043333874306805e-15"
      ]
     },
     "metadata": {},
     "output_type": "display_data"
    },
    {
     "data": {
      "text/plain": [
       "true"
      ]
     },
     "metadata": {},
     "output_type": "display_data"
    },
    {
     "data": {
      "text/plain": [
       "12×12 Array{Float64,2}:\n",
       " 2.05567   0.0         0.0        …   0.0        0.0       0.0     \n",
       " 2.12096   1.07325     0.0            0.0        0.0       0.0     \n",
       " 1.74996   0.115732    1.24133        0.0        0.0       0.0     \n",
       " 1.1405    0.706499    0.321516       0.0        0.0       0.0     \n",
       " 1.78099   0.33436     1.02258        0.0        0.0       0.0     \n",
       " 1.89779   0.0981113   0.424826   …   0.0        0.0       0.0     \n",
       " 0.987083  0.56677     0.904847       0.0        0.0       0.0     \n",
       " 1.42519   0.397774   -0.0733879      0.0        0.0       0.0     \n",
       " 1.16721   0.27522     1.10508        0.0        0.0       0.0     \n",
       " 1.61103   0.472963    1.13947        0.600308   0.0       0.0     \n",
       " 1.99487   0.175406    0.504603   …   0.338797   0.36459   0.0     \n",
       " 1.79247   0.953523    0.4592        -0.0589443  0.217713  0.400327"
      ]
     },
     "execution_count": 35,
     "metadata": {},
     "output_type": "execute_result"
    }
   ],
   "source": [
    "using LinearAlgebra\n",
    "m=12\n",
    "A=rand(m,m); A=A*A'\n",
    "L=zeros(m,m)\n",
    "\n",
    "for i in 1:m\n",
    "    for j in 1:i \n",
    "        sum = dot(L[i,1:j],L[j,1:j])\n",
    "        if i == j\n",
    "            L[i,j] = sqrt(A[i,i] - sum)\n",
    "        else\n",
    "            L[i,j] = 1.0 / L[j,j] * (A[i,j] - sum)\n",
    "        end\n",
    "    end\n",
    "end\n",
    "display(norm(A-L*L'))\n",
    "display(istril(L))\n",
    "L"
   ]
  },
  {
   "cell_type": "markdown",
   "id": "789eac03-fa14-47ec-9871-419f5f2b4fbb",
   "metadata": {},
   "source": [
    "# Functions and Timing\n",
    "\n",
    "It is easy to make functions out of our two working scripts and compare timings"
   ]
  },
  {
   "cell_type": "code",
   "execution_count": 3,
   "id": "55249268-3e57-408b-86ce-04d898dd7f2f",
   "metadata": {},
   "outputs": [
    {
     "data": {
      "text/plain": [
       "CholeskyWikiBLAS (generic function with 1 method)"
      ]
     },
     "execution_count": 3,
     "metadata": {},
     "output_type": "execute_result"
    }
   ],
   "source": [
    "using LinearAlgebra\n",
    "function CholeskyWiki(A) \n",
    "m = size(A)[1]\n",
    "L = zeros(m,m)\n",
    "for i in 1:m\n",
    "    for j in 1:i \n",
    "        sum = dot(L[i,1:j],L[j,1:j])\n",
    "        if i == j\n",
    "            L[i,j] = sqrt(A[i,i] - sum)\n",
    "        else\n",
    "            L[i,j] = 1.0 / L[j,j] * (A[i,j] - sum)\n",
    "        end\n",
    "    end\n",
    "end\n",
    "L\n",
    "end\n",
    "\n",
    "function CholeskyWikiBLAS(A)\n",
    "m = size(A)[1]\n",
    "L = zeros(m,m)\n",
    "for i in 1:m\n",
    "    for j in 1:i \n",
    "        sum = dot(L[i,1:j],L[j,1:j])\n",
    "        if i == j\n",
    "            L[i,j] = sqrt(A[i,i] - sum)\n",
    "        else\n",
    "            L[i,j] = 1.0 / L[j,j] * (A[i,j] - sum)\n",
    "        end\n",
    "    end\n",
    "end\n",
    "L\n",
    "end"
   ]
  },
  {
   "cell_type": "code",
   "execution_count": 7,
   "id": "ffa18fe0-ab4e-4fba-bc9b-d5954aa38bf7",
   "metadata": {},
   "outputs": [
    {
     "name": "stdout",
     "output_type": "stream",
     "text": [
      "  0.084738 seconds (250.51 k allocations: 354.049 MiB, 21.50% gc time)\n",
      "  0.059271 seconds (250.51 k allocations: 354.049 MiB, 24.12% gc time)\n"
     ]
    },
    {
     "data": {
      "text/plain": [
       "2-element Array{Float64,1}:\n",
       " 3.243554043235799e-11\n",
       " 3.243554043235799e-11"
      ]
     },
     "execution_count": 7,
     "metadata": {},
     "output_type": "execute_result"
    }
   ],
   "source": [
    "m = 5*10^2;\n",
    "A = rand(m,m); A=A*A';\n",
    "@time LW = CholeskyWiki(A) \n",
    "@time LB = CholeskyWikiBLAS(A) \n",
    "map(norm,[A-LW*LW',A-LB*LB'])"
   ]
  },
  {
   "cell_type": "code",
   "execution_count": null,
   "id": "34f28cce-5088-470c-9bbd-361f91dce549",
   "metadata": {},
   "outputs": [],
   "source": []
  }
 ],
 "metadata": {
  "kernelspec": {
   "display_name": "Julia 1.0.5",
   "language": "julia",
   "name": "julia-1.0"
  },
  "language_info": {
   "file_extension": ".jl",
   "mimetype": "application/julia",
   "name": "julia",
   "version": "1.0.5"
  }
 },
 "nbformat": 4,
 "nbformat_minor": 5
}
