{
 "cells": [
  {
   "cell_type": "markdown",
   "id": "67b195a5-d666-4b06-9c52-89b685032998",
   "metadata": {
    "tags": []
   },
   "source": [
    "# Dense Cholesky Decomposition: By Row\n",
    "For a dense SPD A a simple row oriented in-place Cholesky decomposition is"
   ]
  },
  {
   "cell_type": "code",
   "execution_count": 1,
   "id": "265c5bbf-d5a4-4191-b936-2efdb992245f",
   "metadata": {
    "tags": []
   },
   "outputs": [
    {
     "data": {
      "text/plain": [
       "DenseCholRow (generic function with 1 method)"
      ]
     },
     "execution_count": 1,
     "metadata": {},
     "output_type": "execute_result"
    }
   ],
   "source": [
    "function DenseCholRow(U) \n",
    "    m = size(U)[1]\n",
    "    for k in 1:m\n",
    "        for j in k+1:m\n",
    "            U[j,j:m] -= (U[k,j]/U[k,k])*U[k,j:m] \n",
    "        end\n",
    "        U[k,k:m] = U[k,k:m]/sqrt(U[k,k])\n",
    "    end\n",
    "    triu!(U)\n",
    "    end"
   ]
  },
  {
   "cell_type": "markdown",
   "id": "d2d1c141-f03a-4030-9e49-a4ba0420a8f5",
   "metadata": {
    "tags": []
   },
   "source": [
    "# Dense Cholesky Decomposition: By Columne\n",
    "For a dense SPD A a simple column oriented in-place Cholesky decomposition is"
   ]
  },
  {
   "cell_type": "code",
   "execution_count": 62,
   "id": "297827e6-25df-47c2-bbd6-6e26ad1e8f82",
   "metadata": {
    "tags": []
   },
   "outputs": [
    {
     "data": {
      "text/plain": [
       "DenseCholCol (generic function with 1 method)"
      ]
     },
     "execution_count": 62,
     "metadata": {},
     "output_type": "execute_result"
    }
   ],
   "source": [
    "function DenseCholCol(L) \n",
    "    m = size(L)[1]\n",
    "    for k in 1:m\n",
    "        for j in k+1:m\n",
    "            L[1:j,j] -= (L[k,j]/L[k,k])*L[1:j,k] \n",
    "        end\n",
    "        L[1:k,k] = L[1:k,k]/sqrt(L[k,k])\n",
    "    end\n",
    "    tril!(L)\n",
    "    end"
   ]
  },
  {
   "cell_type": "markdown",
   "id": "98d16454-efa7-44be-b81c-f5239d0a51e2",
   "metadata": {},
   "source": [
    "Test"
   ]
  },
  {
   "cell_type": "code",
   "execution_count": 63,
   "id": "634a0e86-4a4c-4808-a5b5-223679b30805",
   "metadata": {},
   "outputs": [
    {
     "name": "stdout",
     "output_type": "stream",
     "text": [
      "  0.000011 seconds (12 allocations: 928 bytes)\n",
      "  0.042645 seconds (40.35 k allocations: 1.848 MiB)\n"
     ]
    },
    {
     "data": {
      "text/plain": [
       "2×4 Array{Float64,2}:\n",
       " 0.925398  0.457829  0.925398  0.440421\n",
       " 0.457829  0.906767  0.440421  0.889869"
      ]
     },
     "execution_count": 63,
     "metadata": {},
     "output_type": "execute_result"
    }
   ],
   "source": [
    "using LinearAlgebra\n",
    "m=2;A=rand(m,m);A0=A'*A; \n",
    "U=copy(A0); L=copy(A0)\n",
    "@time DenseCholRow(U)\n",
    "@time DenseCholCol(L)\n",
    "map(norm,(A0-U'*U, A0 , L'*L))\n",
    "[A0 L*L']"
   ]
  },
  {
   "cell_type": "markdown",
   "id": "8393a49a-38cd-45ea-8318-c6627833e09f",
   "metadata": {
    "tags": []
   },
   "source": [
    "# Sparse Cholesky Decomposition\n",
    "For a Sparse SPD A a simple in-place incomplete (zero-fill) Cholesky Decompostion is "
   ]
  },
  {
   "cell_type": "code",
   "execution_count": 4,
   "id": "2090d17e-5478-4dba-ad86-1f9f3b1b1f50",
   "metadata": {},
   "outputs": [
    {
     "name": "stdout",
     "output_type": "stream",
     "text": [
      "\u001b[32m\u001b[1m Resolving\u001b[22m\u001b[39m package versions...\n",
      "\u001b[32m\u001b[1m  Updating\u001b[22m\u001b[39m `~/.julia/environments/v1.0/Project.toml`\n",
      " \u001b[90m [b51810bb]\u001b[39m\u001b[92m + MatrixDepot v1.0.7\u001b[39m\n",
      "\u001b[32m\u001b[1m  Updating\u001b[22m\u001b[39m `~/.julia/environments/v1.0/Manifest.toml`\n",
      " \u001b[90m [a74b3585]\u001b[39m\u001b[92m + Blosc v0.5.1\u001b[39m\n",
      " \u001b[90m [e1450e63]\u001b[39m\u001b[92m + BufferedStreams v1.0.0\u001b[39m\n",
      " \u001b[90m [631607c0]\u001b[39m\u001b[92m + CMake v1.2.0\u001b[39m\n",
      " \u001b[90m [d5fb7624]\u001b[39m\u001b[92m + CMakeWrapper v0.2.4\u001b[39m\n",
      " \u001b[90m [324d7699]\u001b[39m\u001b[92m + CategoricalArrays v0.8.3\u001b[39m\n",
      " \u001b[90m [a93c6f00]\u001b[39m\u001b[92m + DataFrames v0.21.8\u001b[39m\n",
      " \u001b[90m [e2d170a0]\u001b[39m\u001b[92m + DataValueInterfaces v1.0.0\u001b[39m\n",
      " \u001b[90m [f67ccb44]\u001b[39m\u001b[92m + HDF5 v0.12.5\u001b[39m\n",
      " \u001b[90m [41ab1584]\u001b[39m\u001b[92m + InvertedIndices v1.1.0\u001b[39m\n",
      " \u001b[90m [82899510]\u001b[39m\u001b[92m + IteratorInterfaceExtensions v1.0.0\u001b[39m\n",
      " \u001b[90m [23992714]\u001b[39m\u001b[92m + MAT v0.7.0\u001b[39m\n",
      " \u001b[90m [b51810bb]\u001b[39m\u001b[92m + MatrixDepot v1.0.7\u001b[39m\n",
      " \u001b[90m [2dfb63ee]\u001b[39m\u001b[92m + PooledArrays v0.5.3\u001b[39m\n",
      " \u001b[90m [6c6a2e73]\u001b[39m\u001b[92m + Scratch v1.1.0\u001b[39m\n",
      " \u001b[90m [856f2bd8]\u001b[39m\u001b[92m + StructTypes v1.8.1\u001b[39m\n",
      " \u001b[90m [3783bdb8]\u001b[39m\u001b[92m + TableTraits v1.0.1\u001b[39m\n",
      " \u001b[90m [bd369af6]\u001b[39m\u001b[92m + Tables v1.7.0\u001b[39m\n",
      " \u001b[90m [9fa8497b]\u001b[39m\u001b[92m + Future \u001b[39m\n"
     ]
    }
   ],
   "source": [
    "import Pkg; Pkg.add(\"MatrixDepot\")"
   ]
  },
  {
   "cell_type": "code",
   "execution_count": 17,
   "id": "2ea390c0-ef48-4c76-a216-5cbac9a2c9dc",
   "metadata": {},
   "outputs": [
    {
     "data": {
      "text/latex": [
       "\\subsubsection{Currently loaded Matrices}\n",
       "\\begin{tabular}\n",
       "{l | l | l | l | l}\n",
       "builtin(\\#) &  &  &  &  \\\\\n",
       "\\hline\n",
       "1 baart & 13 fiedler & 25 invhilb & 37 parter & 49 shaw \\\\\n",
       "2 binomial & 14 forsythe & 26 invol & 38 pascal & 50 smallworld \\\\\n",
       "3 blur & 15 foxgood & 27 kahan & 39 pei & 51 spikes \\\\\n",
       "4 cauchy & 16 frank & 28 kms & 40 phillips & 52 toeplitz \\\\\n",
       "5 chebspec & 17 gilbert & 29 lehmer & 41 poisson & 53 tridiag \\\\\n",
       "6 chow & 18 golub & 30 lotkin & 42 prolate & 54 triw \\\\\n",
       "7 circul & 19 gravity & 31 magic & 43 randcorr & 55 ursell \\\\\n",
       "8 clement & 20 grcar & 32 minij & 44 rando & 56 vand \\\\\n",
       "9 companion & 21 hadamard & 33 moler & 45 randsvd & 57 wathen \\\\\n",
       "10 deriv2 & 22 hankel & 34 neumann & 46 rohess & 58 wilkinson \\\\\n",
       "11 dingdong & 23 heat & 35 oscillate & 47 rosser & 59 wing \\\\\n",
       "12 erdrey & 24 hilb & 36 parallax & 48 sampling &  \\\\\n",
       "\\end{tabular}\n",
       "\\begin{tabular}\n",
       "{l}\n",
       "user(\\#) \\\\\n",
       "\\hline\n",
       "\\end{tabular}\n",
       "\\begin{tabular}\n",
       "{l | l | l | l | l | l | l | l | l | l | l | l}\n",
       "Groups &  &  &  &  &  &  &  &  &  &  &  \\\\\n",
       "\\hline\n",
       "all & local & eigen & illcond & posdef & regprob & symmetric &  &  &  &  &  \\\\\n",
       "builtin & user & graph & inverse & random & sparse &  &  &  &  &  &  \\\\\n",
       "\\end{tabular}\n",
       "\\begin{tabular}\n",
       "{l | l}\n",
       "Suite Sparse & of \\\\\n",
       "\\hline\n",
       "1 & 2893 \\\\\n",
       "\\end{tabular}\n",
       "\\begin{tabular}\n",
       "{l | l}\n",
       "MatrixMarket & of \\\\\n",
       "\\hline\n",
       "0 & 498 \\\\\n",
       "\\end{tabular}\n"
      ],
      "text/markdown": [
       "### Currently loaded Matrices\n",
       "\n",
       "| builtin(#)  |             |              |             |               |\n",
       "|:----------- |:----------- |:------------ |:----------- |:------------- |\n",
       "| 1 baart     | 13 fiedler  | 25 invhilb   | 37 parter   | 49 shaw       |\n",
       "| 2 binomial  | 14 forsythe | 26 invol     | 38 pascal   | 50 smallworld |\n",
       "| 3 blur      | 15 foxgood  | 27 kahan     | 39 pei      | 51 spikes     |\n",
       "| 4 cauchy    | 16 frank    | 28 kms       | 40 phillips | 52 toeplitz   |\n",
       "| 5 chebspec  | 17 gilbert  | 29 lehmer    | 41 poisson  | 53 tridiag    |\n",
       "| 6 chow      | 18 golub    | 30 lotkin    | 42 prolate  | 54 triw       |\n",
       "| 7 circul    | 19 gravity  | 31 magic     | 43 randcorr | 55 ursell     |\n",
       "| 8 clement   | 20 grcar    | 32 minij     | 44 rando    | 56 vand       |\n",
       "| 9 companion | 21 hadamard | 33 moler     | 45 randsvd  | 57 wathen     |\n",
       "| 10 deriv2   | 22 hankel   | 34 neumann   | 46 rohess   | 58 wilkinson  |\n",
       "| 11 dingdong | 23 heat     | 35 oscillate | 47 rosser   | 59 wing       |\n",
       "| 12 erdrey   | 24 hilb     | 36 parallax  | 48 sampling |               |\n",
       "\n",
       "| user(#) |\n",
       "|:------- |\n",
       "\n",
       "| Groups  |       |       |         |        |         |           |     |     |     |     |     |\n",
       "|:------- |:----- |:----- |:------- |:------ |:------- |:--------- |:--- |:--- |:--- |:--- |:--- |\n",
       "| all     | local | eigen | illcond | posdef | regprob | symmetric |     |     |     |     |     |\n",
       "| builtin | user  | graph | inverse | random | sparse  |           |     |     |     |     |     |\n",
       "\n",
       "| Suite Sparse | of   |\n",
       "|:------------ |:---- |\n",
       "| 1            | 2893 |\n",
       "\n",
       "| MatrixMarket | of  |\n",
       "|:------------ |:--- |\n",
       "| 0            | 498 |\n"
      ],
      "text/plain": [
       "\u001b[1m  Currently loaded Matrices\u001b[22m\n",
       "\u001b[1m  –––––––––––––––––––––––––––\u001b[22m\n",
       "\n",
       "builtin(#)                                                    \n",
       "––––––––––– ––––––––––– –––––––––––– ––––––––––– –––––––––––––\n",
       "1 baart     13 fiedler  25 invhilb   37 parter   49 shaw      \n",
       "2 binomial  14 forsythe 26 invol     38 pascal   50 smallworld\n",
       "3 blur      15 foxgood  27 kahan     39 pei      51 spikes    \n",
       "4 cauchy    16 frank    28 kms       40 phillips 52 toeplitz  \n",
       "5 chebspec  17 gilbert  29 lehmer    41 poisson  53 tridiag   \n",
       "6 chow      18 golub    30 lotkin    42 prolate  54 triw      \n",
       "7 circul    19 gravity  31 magic     43 randcorr 55 ursell    \n",
       "8 clement   20 grcar    32 minij     44 rando    56 vand      \n",
       "9 companion 21 hadamard 33 moler     45 randsvd  57 wathen    \n",
       "10 deriv2   22 hankel   34 neumann   46 rohess   58 wilkinson \n",
       "11 dingdong 23 heat     35 oscillate 47 rosser   59 wing      \n",
       "12 erdrey   24 hilb     36 parallax  48 sampling              \n",
       "\n",
       "user(#)\n",
       "–––––––\n",
       "\n",
       "Groups                                                   \n",
       "––––––– ––––– ––––– ––––––– –––––– ––––––– –––––––––     \n",
       "all     local eigen illcond posdef regprob symmetric     \n",
       "builtin user  graph inverse random sparse                \n",
       "\n",
       "Suite Sparse of  \n",
       "–––––––––––– ––––\n",
       "1            2893\n",
       "\n",
       "MatrixMarket of \n",
       "–––––––––––– –––\n",
       "0            498"
      ]
     },
     "execution_count": 17,
     "metadata": {},
     "output_type": "execute_result"
    }
   ],
   "source": [
    "using MatrixDepot\n",
    "mdinfo()"
   ]
  },
  {
   "cell_type": "code",
   "execution_count": 15,
   "id": "ec54b433-8541-4ff1-a4eb-95f2f1c5f953",
   "metadata": {},
   "outputs": [
    {
     "name": "stdout",
     "output_type": "stream",
     "text": [
      "\u001b[32m\u001b[1m Resolving\u001b[22m\u001b[39m package versions...\n",
      "\u001b[32m\u001b[1m Installed\u001b[22m\u001b[39m Crayons ────── v4.0.4\n",
      "\u001b[32m\u001b[1m Installed\u001b[22m\u001b[39m UnicodePlots ─ v2.6.0\n",
      "\u001b[32m\u001b[1m  Updating\u001b[22m\u001b[39m `~/.julia/environments/v1.0/Project.toml`\n",
      " \u001b[90m [b8865327]\u001b[39m\u001b[92m + UnicodePlots v2.6.0\u001b[39m\n",
      "\u001b[32m\u001b[1m  Updating\u001b[22m\u001b[39m `~/.julia/environments/v1.0/Manifest.toml`\n",
      " \u001b[90m [a8cc5b0e]\u001b[39m\u001b[92m + Crayons v4.0.4\u001b[39m\n",
      " \u001b[90m [b8865327]\u001b[39m\u001b[92m + UnicodePlots v2.6.0\u001b[39m\n"
     ]
    }
   ],
   "source": [
    "import Pkg; Pkg.add(\"UnicodePlots\")\n"
   ]
  },
  {
   "cell_type": "code",
   "execution_count": 19,
   "id": "8a0f43a2-9a91-49bd-bb38-5b9b55bafd36",
   "metadata": {},
   "outputs": [
    {
     "data": {
      "text/plain": [
       "15066×15066 SparseArrays.SparseMatrixCSC{Float64,Int64} with 62198 stored entries:\n",
       "  [1    ,     1]  =  20.4985\n",
       "  [3    ,     1]  =  1.04708\n",
       "  [7    ,     1]  =  -1.0\n",
       "  [9    ,     1]  =  0.428112\n",
       "  [10   ,     1]  =  0.311193\n",
       "  [2    ,     2]  =  14.8013\n",
       "  [4    ,     2]  =  2.63371\n",
       "  [8    ,     2]  =  -1.0\n",
       "  [9    ,     2]  =  -0.320222\n",
       "  [10   ,     2]  =  0.351126\n",
       "  [1    ,     3]  =  20.4381\n",
       "  [3    ,     3]  =  1.23576\n",
       "  ⋮\n",
       "  [15066, 15065]  =  6.42899\n",
       "  [10583, 15066]  =  2.38138\n",
       "  [10584, 15066]  =  3.13895\n",
       "  [10585, 15066]  =  1.3189\n",
       "  [10586, 15066]  =  1.98631\n",
       "  [11997, 15066]  =  1.08695\n",
       "  [11998, 15066]  =  2.01041\n",
       "  [13909, 15066]  =  1.63\n",
       "  [13910, 15066]  =  2.3077\n",
       "  [14198, 15066]  =  4.93666\n",
       "  [15065, 15066]  =  -6.42322\n",
       "  [15066, 15066]  =  14.2829"
      ]
     },
     "execution_count": 19,
     "metadata": {},
     "output_type": "execute_result"
    }
   ],
   "source": [
    "md = mdopen(\"Rommes/bips07_1998\")\n",
    "A = md.A"
   ]
  },
  {
   "cell_type": "code",
   "execution_count": 20,
   "id": "4ae9f99e-90aa-4b3e-88b0-c3f63ee23f27",
   "metadata": {},
   "outputs": [
    {
     "data": {
      "text/plain": [
       "13-element Array{Symbol,1}:\n",
       " :all      \n",
       " :builtin  \n",
       " :local    \n",
       " :user     \n",
       " :eigen    \n",
       " :graph    \n",
       " :illcond  \n",
       " :inverse  \n",
       " :posdef   \n",
       " :random   \n",
       " :regprob  \n",
       " :sparse   \n",
       " :symmetric"
      ]
     },
     "execution_count": 20,
     "metadata": {},
     "output_type": "execute_result"
    }
   ],
   "source": [
    "listgroups()"
   ]
  },
  {
   "cell_type": "markdown",
   "id": "f7d0a9dd-4576-4d40-8b8c-919c61fc612e",
   "metadata": {},
   "source": [
    "# Planning and Thinking\n",
    "It is clear that one should run through by column and update in the appropriate memory location.  A big question is what the time impact for the Upper Triangularization is. I do not n"
   ]
  },
  {
   "cell_type": "code",
   "execution_count": 26,
   "id": "f89ede86-f9a5-4d0b-8fda-4e5901b68a81",
   "metadata": {},
   "outputs": [
    {
     "name": "stdout",
     "output_type": "stream",
     "text": [
      "  0.040920 seconds (71.67 k allocations: 7.068 MiB)\n",
      "  0.000194 seconds (4 allocations: 160 bytes)\n"
     ]
    }
   ],
   "source": [
    "using LinearAlgebra\n",
    "md = mdopen(\"Rommes/bips07_1998\")\n",
    "@time A = md.A\n",
    "@time triu!(A);"
   ]
  },
  {
   "cell_type": "code",
   "execution_count": 44,
   "id": "692080f9-42aa-46e7-bf22-3b01f3ac64a7",
   "metadata": {},
   "outputs": [
    {
     "data": {
      "text/plain": [
       "12×12 SparseMatrixCSC{Float64,Int64} with 34 stored entries:\n",
       "  [1 ,  1]  =  1.34563\n",
       "  [6 ,  1]  =  0.587904\n",
       "  [9 ,  1]  =  0.0842642\n",
       "  [2 ,  2]  =  1.0\n",
       "  [9 ,  2]  =  0.88101\n",
       "  [3 ,  3]  =  1.0\n",
       "  [9 ,  3]  =  0.894942\n",
       "  [4 ,  4]  =  1.0\n",
       "  [9 ,  4]  =  0.545167\n",
       "  [12,  4]  =  0.942245\n",
       "  [5 ,  5]  =  1.0\n",
       "  [8 ,  5]  =  0.544351\n",
       "  ⋮\n",
       "  [4 ,  9]  =  0.545167\n",
       "  [6 ,  9]  =  0.14333\n",
       "  [9 ,  9]  =  2.89485\n",
       "  [12,  9]  =  0.513681\n",
       "  [7 , 10]  =  0.57439\n",
       "  [10, 10]  =  1.32992\n",
       "  [11, 11]  =  1.0\n",
       "  [12, 11]  =  0.964448\n",
       "  [4 , 12]  =  0.942245\n",
       "  [9 , 12]  =  0.513681\n",
       "  [11, 12]  =  0.964448\n",
       "  [12, 12]  =  2.81798"
      ]
     },
     "execution_count": 44,
     "metadata": {},
     "output_type": "execute_result"
    }
   ],
   "source": [
    "using SparseArrays\n",
    "m=12;\n",
    "A=sprand(m,m,0.05)+I\n",
    "A=A'*A"
   ]
  },
  {
   "cell_type": "code",
   "execution_count": 53,
   "id": "9a4b64c8-854e-4c96-967a-8d3c33e2c181",
   "metadata": {},
   "outputs": [
    {
     "data": {
      "text/plain": [
       "11×2 Array{Int64,2}:\n",
       "  1   4\n",
       "  4   6\n",
       "  6   8\n",
       "  8  11\n",
       " 11  13\n",
       " 13  16\n",
       " 16  18\n",
       " 18  20\n",
       " 20  27\n",
       " 27  29\n",
       " 29  31"
      ]
     },
     "execution_count": 53,
     "metadata": {},
     "output_type": "execute_result"
    }
   ],
   "source": [
    "js=A.rowval\n",
    "ps=A.colptr\n",
    "n=A.n\n",
    "ro[ps[1:n-1] ps[2:n]] "
   ]
  },
  {
   "cell_type": "code",
   "execution_count": 53,
   "id": "1ee68676-34b3-4e2b-9725-5df98a811fd4",
   "metadata": {
    "tags": []
   },
   "outputs": [
    {
     "data": {
      "text/plain": [
       "DenseChol (generic function with 1 method)"
      ]
     },
     "execution_count": 53,
     "metadata": {},
     "output_type": "execute_result"
    }
   ],
   "source": [
    "function SparseZeroFillIncompleteCholesky(U) \n",
    "    m = size(U)[1]\n",
    "    cols = U.colptr\n",
    "    is = U.rowvals\n",
    "    zs = U.nzvals\n",
    "    for k in 1:m\n",
    "        for j in k+1:m\n",
    "            U[j,j:m] -= (U[k,j]/U[k,k])*U[k,j:m] \n",
    "        end\n",
    "        U[k,k:m] = U[k,k:m]/sqrt(U[k,k])\n",
    "    end\n",
    "    triu!(U)\n",
    "    end"
   ]
  }
 ],
 "metadata": {
  "kernelspec": {
   "display_name": "Julia 1.0.5",
   "language": "julia",
   "name": "julia-1.0"
  },
  "language_info": {
   "file_extension": ".jl",
   "mimetype": "application/julia",
   "name": "julia",
   "version": "1.0.5"
  }
 },
 "nbformat": 4,
 "nbformat_minor": 5
}
