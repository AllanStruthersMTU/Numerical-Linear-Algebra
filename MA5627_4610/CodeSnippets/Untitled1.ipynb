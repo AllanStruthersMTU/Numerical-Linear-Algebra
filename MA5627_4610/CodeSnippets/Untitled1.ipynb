{
 "cells": [
  {
   "cell_type": "code",
   "execution_count": 8,
   "id": "6c4bf742-a0c9-43f0-8de4-82dae8cbdbca",
   "metadata": {},
   "outputs": [
    {
     "name": "stdout",
     "output_type": "stream",
     "text": [
      "  0.000056 seconds (9 allocations: 1.844 KiB)\n",
      "  0.000041 seconds (9 allocations: 3.453 KiB)\n",
      "  0.000069 seconds (9 allocations: 6.984 KiB)\n",
      "  0.000223 seconds (9 allocations: 16.313 KiB)\n",
      "  0.000977 seconds (9 allocations: 52.859 KiB)\n",
      "  0.004388 seconds (12 allocations: 200.688 KiB)\n",
      "  0.015843 seconds (12 allocations: 784.719 KiB)\n",
      "  0.056971 seconds (12 allocations: 3.032 MiB)\n",
      "  0.254666 seconds (13 allocations: 12.063 MiB, 8.96% gc time)\n",
      "  1.133817 seconds (13 allocations: 48.126 MiB, 0.48% gc time)\n",
      "  5.592218 seconds (13 allocations: 192.251 MiB, 0.98% gc time)\n",
      " 30.395971 seconds (14 allocations: 768.501 MiB, 0.20% gc time)\n"
     ]
    }
   ],
   "source": [
    "using LinearAlgebra\n",
    "for p in 1:12\n",
    "    A = randn(2^p,2^p)\n",
    "    @time svd(A)\n",
    "end"
   ]
  },
  {
   "cell_type": "code",
   "execution_count": 5,
   "id": "b83061f1-8af5-4a20-a891-d86561badd3e",
   "metadata": {},
   "outputs": [
    {
     "data": {
      "text/plain": [
       "4096"
      ]
     },
     "execution_count": 5,
     "metadata": {},
     "output_type": "execute_result"
    }
   ],
   "source": [
    "2^12"
   ]
  },
  {
   "cell_type": "code",
   "execution_count": null,
   "id": "faa62d4f-e626-4fc7-a058-319d540daab1",
   "metadata": {},
   "outputs": [],
   "source": []
  }
 ],
 "metadata": {
  "kernelspec": {
   "display_name": "Julia 1.0.5",
   "language": "julia",
   "name": "julia-1.0"
  },
  "language_info": {
   "file_extension": ".jl",
   "mimetype": "application/julia",
   "name": "julia",
   "version": "1.0.5"
  }
 },
 "nbformat": 4,
 "nbformat_minor": 5
}
