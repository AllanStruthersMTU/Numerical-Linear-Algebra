{
 "cells": [
  {
   "cell_type": "markdown",
   "id": "c5fe6f36-6d5a-418e-9329-b7255c5b9248",
   "metadata": {},
   "source": [
    "3.1"
   ]
  },
  {
   "cell_type": "code",
   "execution_count": 1,
   "id": "53ba5038-a1a3-48dc-8fbb-748063c5d2d9",
   "metadata": {},
   "outputs": [
    {
     "data": {
      "text/plain": [
       "4929×4929 SparseArrays.SparseMatrixCSC{Float64, Int64} with 33044 stored entries:\n",
       "⢿⡐⢶⣤⣏⡂⠀⠀⠀⠀⠐⠀⠌⠒⠕⠾⠾⠳⠳⠿⣇⢲⣤⣟⠀⠀⠀⠀⠂⠨⠂⠝⠾⠼⠿⠳⠻⡇⠀⠀\n",
       "⢀⢿⡀⠁⠀⠉⠿⠿⠧⢤⣀⠀⣀⠀⠀⠀⠀⠀⠀⠀⡸⣇⠁⠈⠹⠿⠧⣄⡀⢀⠀⠀⠀⠀⠀⠀⠀⠹⠀⠀\n",
       "⢲⡐⢳⣶⠀⢀⡀⠀⠀⠐⠚⠓⢒⠐⠀⠀⠒⠀⠀⠀⡆⢻⣶⠀⣀⠀⠀⠒⠛⢒⠀⠂⠀⠒⠀⠀⠀⢸⠀⠀\n",
       "⣸⡁⢸⣿⡘⠉⠁⠀⠀⢀⠀⠃⠀⠀⠀⠀⠀⠀⠀⠀⣋⢸⣿⡋⠉⠀⠀⢀⠘⠀⠀⠀⠀⠀⠀⠀⠀⢸⠀⠀\n",
       "⡁⡇⠀⡊⣷⡂⠈⡉⠁⢀⠈⣢⠀⠀⠀⠀⠀⠀⠀⢠⢩⠀⡊⣷⡂⡉⠁⢀⢱⠀⠀⠀⠀⠀⠀⠀⢠⠘⡆⠀\n",
       "⠁⡇⠀⡇⠘⢻⡌⠁⠀⠀⠀⠀⢌⠀⠀⠀⠀⠀⠀⠀⢹⠀⡇⠊⣷⠁⠀⠀⠀⢨⠀⠀⠀⠀⠀⠀⠀⠀⡇⠀\n",
       "⠀⣿⠀⠁⡀⡊⣿⣿⡇⠀⠀⠀⠀⠀⠀⠀⠀⠀⠀⠐⢸⠃⠁⣀⢻⣿⡇⠀⠀⠀⠀⠀⠀⠀⠀⠀⠐⠀⣇⠀\n",
       "⠀⣻⠀⠀⡋⠁⣿⣿⡇⠂⠀⠀⠀⠀⠀⠀⠀⠀⠀⠀⢸⡃⠀⡋⢸⣿⡇⠂⠀⠀⠀⠀⠀⠀⠀⠀⠐⠀⢸⠀\n",
       "⠀⢻⠀⠀⠀⠀⠛⠙⣷⣶⠠⢀⠀⠀⠀⠀⠀⠀⠀⠀⠘⡆⠀⠀⠘⠋⣷⡆⢄⠀⠀⠀⠀⠀⠀⠀⠀⠀⢸⠀\n",
       "⠀⢸⣄⠀⡀⡀⠀⠂⠿⢿⡀⢠⣄⠀⠀⠀⠀⠀⠀⠀⠀⣧⠀⣀⠀⠐⠿⣧⡀⣤⠀⠀⠀⠀⠀⠀⠐⠀⠈⡇\n",
       "⢀⠘⡇⠀⠄⠀⠀⠀⠠⠀⢻⣘⠚⠀⠀⠀⠀⠀⠀⠀⡀⣿⠀⠄⠀⠀⠠⠘⣇⠛⠀⠀⠀⠀⠀⠀⠀⠀⠀⡇\n",
       "⠀⠀⣡⠋⠸⠀⠀⠀⠀⢄⣤⢿⡄⠀⠀⠀⠀⠀⠀⠀⠀⢠⠋⠱⠀⠀⠠⣠⡾⣧⠀⠀⠀⠀⠀⠀⠀⠀⠀⢳\n",
       "⠒⠀⠻⠂⠀⠌⠂⠀⠀⠘⠃⠘⢿⡄⠀⠀⠀⠀⠄⡄⠂⠻⠂⠠⠑⠀⠀⠛⠀⢿⣤⠀⠀⠀⠠⢀⢤⠀⠀⠸\n",
       "⡈⠀⡀⠀⠀⠀⠀⠀⠀⠀⠀⠀⠘⣿⣀⣀⣀⠀⠹⢹⡁⢀⠀⠀⠀⠀⠀⠀⠀⠘⣻⣅⣀⡀⠀⠹⣻⠀⠀⢀\n",
       "⢏⠀⠀⠀⠀⠀⠀⠀⠀⠀⠀⠀⠀⢸⣿⣿⣷⠀⠀⢨⡇⠀⠀⠀⠀⠀⠀⠀⠀⠀⠀⣿⣿⡇⠀⠀⡽⠀⠀⠈\n",
       "⣾⠀⠀⠀⠀⠀⠀⠀⠀⠀⠀⠀⠀⢸⣿⣿⣿⠀⠀⢺⡇⠀⠀⠀⠀⠀⠀⠀⠀⠀⠀⣿⣿⡇⠀⠀⣿⠀⠀⠀\n",
       "⣮⠀⠅⠀⠀⠀⠀⠀⠀⠀⠀⠀⠀⠘⠛⠛⢳⣶⠈⣴⡇⠨⠀⠀⠀⠀⠀⠀⠀⠀⠀⠛⠛⣷⣶⠈⣼⠀⠀⠘\n",
       "⡽⠀⠀⠀⠀⠀⠀⠀⠀⠀⠀⠀⢀⠀⠀⠀⢸⣿⣀⣟⡇⠀⠀⠀⠀⠀⠀⠀⠀⢀⠀⠀⠀⢾⣿⣰⣿⠀⠀⠠\n",
       "⢧⠀⠀⠀⠀⠀⠀⠀⠀⠀⠀⠀⠀⡥⠀⠀⠄⠰⣿⣿⡇⠀⠀⠀⠀⠀⠀⠀⠀⠀⡥⠀⠀⠄⢸⣿⣿⡇⠀⢠\n",
       "⣵⠀⠀⠀⢀⠀⢀⠀⠀⠀⠀⠀⠈⢤⠖⠼⠬⣿⢿⢿⡇⠀⠀⢀⠀⡀⠀⠀⠀⠈⢤⠖⠾⠸⡿⢿⢿⡇⠀⢈"
      ]
     },
     "execution_count": 1,
     "metadata": {},
     "output_type": "execute_result"
    }
   ],
   "source": [
    "pwd()\n",
    "cd(\"C:\\\\Users\\\\AllanStruthers\\\\Desktop\\\\Numerical-Linear-Algebra\\\\MA5627_4610\")\n",
    "cd(\"SolutionsAndExamples\\\\Week 1\")\n",
    "using MatrixMarket\n",
    "A=mmread(\"gemat12.mtx\")"
   ]
  },
  {
   "cell_type": "markdown",
   "id": "7dfe3f66-98b7-429d-8b08-7c5c83efb103",
   "metadata": {},
   "source": [
    "The density is 33044/(4929)^2"
   ]
  },
  {
   "cell_type": "code",
   "execution_count": 16,
   "id": "e25e2ee5-aac6-43f7-b5fa-d034aeeba406",
   "metadata": {},
   "outputs": [
    {
     "data": {
      "text/plain": [
       "0.0013601129547383764"
      ]
     },
     "execution_count": 16,
     "metadata": {},
     "output_type": "execute_result"
    }
   ],
   "source": [
    "1.0 * 33044/(4929)^2"
   ]
  },
  {
   "cell_type": "markdown",
   "id": "eee05b9e-e54a-4cf8-abb2-464e79fed732",
   "metadata": {},
   "source": [
    "3.2"
   ]
  },
  {
   "cell_type": "code",
   "execution_count": 4,
   "id": "61f3b71e-568d-44c1-8dfc-0b5f816bbf8b",
   "metadata": {},
   "outputs": [],
   "source": [
    "using LinearAlgebra\n",
    "(m, n)=size(A)\n",
    "b = zeros(n); b[1]=1.0;"
   ]
  },
  {
   "cell_type": "markdown",
   "id": "f430424a-32c2-4d87-a187-d23cd51f03e6",
   "metadata": {},
   "source": [
    "3.3"
   ]
  },
  {
   "cell_type": "code",
   "execution_count": 7,
   "id": "c7107631-ef4f-49a3-850b-cfb2c322ed17",
   "metadata": {},
   "outputs": [
    {
     "name": "stderr",
     "output_type": "stream",
     "text": [
      "\u001b[32m\u001b[1m   Resolving\u001b[22m\u001b[39m package versions...\n",
      "\u001b[32m\u001b[1m   Installed\u001b[22m\u001b[39m Arpack_jll ─ v3.5.0+3\n",
      "\u001b[32m\u001b[1m   Installed\u001b[22m\u001b[39m Arpack ───── v0.5.3\n",
      "\u001b[32m\u001b[1m    Updating\u001b[22m\u001b[39m `C:\\Users\\AllanStruthers\\.julia\\environments\\v1.6\\Project.toml`\n",
      " \u001b[90m [7d9fca2a] \u001b[39m\u001b[92m+ Arpack v0.5.3\u001b[39m\n",
      "\u001b[32m\u001b[1m    Updating\u001b[22m\u001b[39m `C:\\Users\\AllanStruthers\\.julia\\environments\\v1.6\\Manifest.toml`\n",
      " \u001b[90m [7d9fca2a] \u001b[39m\u001b[92m+ Arpack v0.5.3\u001b[39m\n",
      " \u001b[90m [68821587] \u001b[39m\u001b[92m+ Arpack_jll v3.5.0+3\u001b[39m\n",
      " \u001b[90m [4536629a] \u001b[39m\u001b[92m+ OpenBLAS_jll\u001b[39m\n",
      "\u001b[32m\u001b[1mPrecompiling\u001b[22m\u001b[39m project...\n",
      "\u001b[32m  ✓ \u001b[39m\u001b[90mOpenBLAS_jll\u001b[39m\n",
      "\u001b[32m  ✓ \u001b[39m\u001b[90mArpack_jll\u001b[39m\n",
      "\u001b[32m  ✓ \u001b[39mArpack\n",
      "  3 dependencies successfully precompiled in 4 seconds (129 already precompiled)\n"
     ]
    }
   ],
   "source": [
    "import Pkg; Pkg.add(\"Arpack\")"
   ]
  },
  {
   "cell_type": "code",
   "execution_count": 24,
   "id": "ed05cb4d-36ef-4bcb-88d8-188fd3599258",
   "metadata": {},
   "outputs": [
    {
     "data": {
      "text/plain": [
       "5.289395005992665 - 1.205437289824784im"
      ]
     },
     "execution_count": 24,
     "metadata": {},
     "output_type": "execute_result"
    }
   ],
   "source": [
    "using Arpack\n",
    "lambdas = eigs(A)\n",
    "lambdas[1][3]"
   ]
  },
  {
   "cell_type": "code",
   "execution_count": 22,
   "id": "bfed4908-ce3f-4197-8a00-26996e5f57cd",
   "metadata": {},
   "outputs": [
    {
     "data": {
      "text/plain": [
       "6-element Vector{ComplexF64}:\n",
       "  -5.53062674332549 + 0.0im\n",
       " 5.2893950059926516 + 1.2054372898247765im\n",
       " 5.2893950059926516 - 1.2054372898247765im\n",
       " 0.5193833447768768 + 5.321188972277906im\n",
       " 0.5193833447768768 - 5.321188972277906im\n",
       " 2.9565612574205122 + 4.076166172353546im"
      ]
     },
     "execution_count": 22,
     "metadata": {},
     "output_type": "execute_result"
    }
   ],
   "source": [
    "lambdas[1]"
   ]
  },
  {
   "cell_type": "code",
   "execution_count": null,
   "id": "66bd3cf5-f60e-45ce-bcbe-cf1cd9fe94b1",
   "metadata": {},
   "outputs": [],
   "source": [
    "x = A\\b; x[3]"
   ]
  }
 ],
 "metadata": {
  "kernelspec": {
   "display_name": "Julia 1.6.3",
   "language": "julia",
   "name": "julia-1.6"
  },
  "language_info": {
   "file_extension": ".jl",
   "mimetype": "application/julia",
   "name": "julia",
   "version": "1.6.3"
  }
 },
 "nbformat": 4,
 "nbformat_minor": 5
}
